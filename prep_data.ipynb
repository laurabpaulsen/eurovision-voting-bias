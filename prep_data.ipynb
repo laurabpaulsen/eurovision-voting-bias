{
 "cells": [
  {
   "cell_type": "code",
   "execution_count": 2,
   "metadata": {},
   "outputs": [],
   "source": [
    "import pandas as pd\n",
    "import numpy as np\n",
    "import os"
   ]
  },
  {
   "cell_type": "code",
   "execution_count": 3,
   "metadata": {},
   "outputs": [],
   "source": [
    "votes = pd.read_csv(os.path.join(\"data\", \"votes.csv\"))"
   ]
  },
  {
   "cell_type": "code",
   "execution_count": 16,
   "metadata": {},
   "outputs": [
    {
     "data": {
      "text/plain": [
       "array(['ad', 'al', 'am', 'at', 'au', 'az', 'ba', 'be', 'bg', 'by', 'ch',\n",
       "       'cs', 'cy', 'cz', 'de', 'dk', 'ee', 'es', 'fi', 'fr', 'gb', 'ge',\n",
       "       'gr', 'hr', 'hu', 'ie', 'il', 'is', 'it', 'lt', 'lu', 'lv', 'ma',\n",
       "       'mc', 'md', 'me', 'mk', 'mt', 'nl', 'no', 'pl', 'pt', 'ro', 'rs',\n",
       "       'ru', 'se', 'si', 'sk', 'sm', 'tr', 'ua', 'yu'], dtype=object)"
      ]
     },
     "execution_count": 16,
     "metadata": {},
     "output_type": "execute_result"
    }
   ],
   "source": [
    "np.unique(votes[\"to_country_id\"])"
   ]
  },
  {
   "cell_type": "code",
   "execution_count": 12,
   "metadata": {},
   "outputs": [],
   "source": [
    "def points_neighbours(input_country, list_of_neighbours, data):   \n",
    "    \"\"\"\n",
    "    \"\"\"\n",
    "    # get the points given to the input country\n",
    "    points_received = data[data[\"to_country_id\"] == input_country]\n",
    "\n",
    "    # get the points given by the neighbours\n",
    "    points = points_received[points_received[\"from_country_id\"].isin(list_of_neighbours)]\n",
    "\n",
    "    # get sum \n",
    "    points_sum = points[\"total_points\"].sum()\n",
    "\n",
    "    return points_sum\n"
   ]
  },
  {
   "cell_type": "code",
   "execution_count": 19,
   "metadata": {},
   "outputs": [],
   "source": [
    "points_dk = points_neighbours(\"dk\", [\"se\", \"is\", \"no\"], votes)"
   ]
  },
  {
   "cell_type": "code",
   "execution_count": 21,
   "metadata": {},
   "outputs": [],
   "source": [
    "# list of contestants\n",
    "contestants = np.unique(votes[\"from_country_id\"])\n",
    "\n",
    "# list of neighbours for each co"
   ]
  },
  {
   "cell_type": "code",
   "execution_count": 20,
   "metadata": {},
   "outputs": [
    {
     "data": {
      "text/plain": [
       "862"
      ]
     },
     "execution_count": 20,
     "metadata": {},
     "output_type": "execute_result"
    }
   ],
   "source": [
    "points_dk"
   ]
  }
 ],
 "metadata": {
  "kernelspec": {
   "display_name": "esc-env",
   "language": "python",
   "name": "python3"
  },
  "language_info": {
   "codemirror_mode": {
    "name": "ipython",
    "version": 3
   },
   "file_extension": ".py",
   "mimetype": "text/x-python",
   "name": "python",
   "nbconvert_exporter": "python",
   "pygments_lexer": "ipython3",
   "version": "3.9.6"
  },
  "orig_nbformat": 4,
  "vscode": {
   "interpreter": {
    "hash": "e7f95ba64136dea51e283a2859f89db07c9d71e952efdb01c414a51205b3d6f7"
   }
  }
 },
 "nbformat": 4,
 "nbformat_minor": 2
}
