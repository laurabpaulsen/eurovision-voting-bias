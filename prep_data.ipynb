{
 "cells": [
  {
   "cell_type": "code",
   "execution_count": 10,
   "metadata": {},
   "outputs": [],
   "source": [
    "import pandas as pd\n",
    "import numpy as np\n",
    "import os"
   ]
  },
  {
   "cell_type": "code",
   "execution_count": 11,
   "metadata": {},
   "outputs": [],
   "source": [
    "votes = pd.read_csv(os.path.join(\"data\", \"votes.csv\"))\n",
    "\n",
    "cultural = pd.read_csv(os.path.join(\"data\", \"cultural_similarity.csv\"), sep=\";\")\n",
    "\n",
    "contestants = pd.read_csv(os.path.join(\"data\", \"contestants.csv\"))"
   ]
  },
  {
   "cell_type": "code",
   "execution_count": 12,
   "metadata": {},
   "outputs": [],
   "source": [
    "votes = votes[votes[\"year\"]>=2000]"
   ]
  },
  {
   "cell_type": "code",
   "execution_count": 13,
   "metadata": {},
   "outputs": [],
   "source": [
    "# create a dictionary with country keys as keys and full country names as values\n",
    "countries = contestants[\"to_country\"].unique()\n",
    "\n",
    "country_dict = {}\n",
    "\n",
    "# empty pandas dataframe\n",
    "df = pd.DataFrame(columns=[\"short_name\", \"country\"])\n",
    "\n",
    "for country in countries:\n",
    "    # find the short name of the country\n",
    "    short_name = contestants[contestants[\"to_country\"] == country]\n",
    "\n",
    "    short_name_unique = short_name[\"to_country_id\"].unique()\n",
    "\n",
    "    # choose the shortest name\n",
    "    short_name = min(short_name_unique, key=len)\n",
    "\n",
    "    # add to dictionary\n",
    "    country_dict[short_name] = country\n",
    "\n",
    "    # add to dataframe\n",
    "\n",
    "    # new dat\n",
    "    tmp_dat = pd.DataFrame({\"short_name\": [short_name], \"country\": [country]})\n",
    "    df = pd.concat([df, tmp_dat])\n",
    "\n",
    "\n",
    "# save pandas dataframe as csv\n",
    "#df.to_csv(os.path.join(\"data\", \"shortname_mapping.csv\"), index=False)"
   ]
  },
  {
   "cell_type": "code",
   "execution_count": 14,
   "metadata": {},
   "outputs": [
    {
     "data": {
      "text/plain": [
       "{'ch': 'Switzerland',\n",
       " 'nl': 'Netherlands',\n",
       " 'be': 'Belgium',\n",
       " 'de': 'Germany',\n",
       " 'fr': 'France',\n",
       " 'lu': 'Luxembourg',\n",
       " 'it': 'Italy',\n",
       " 'dk': 'Denmark',\n",
       " 'gb': 'United Kingdom',\n",
       " 'at': 'Austria',\n",
       " 'se': 'Sweden',\n",
       " 'mc': 'Monaco',\n",
       " 'no': 'Norway',\n",
       " 'yu': 'Yugoslavia',\n",
       " 'es': 'Spain',\n",
       " 'fi': 'Finland',\n",
       " 'pt': 'Portugal',\n",
       " 'ie': 'Ireland',\n",
       " 'mt': 'Malta',\n",
       " 'il': 'Israel',\n",
       " 'gr': 'Greece',\n",
       " 'tr': 'Turkey',\n",
       " 'ma': 'Morocco',\n",
       " 'cy': 'Cyprus',\n",
       " 'is': 'Iceland',\n",
       " 'hr': 'Croatia',\n",
       " 'ba': 'Bosnia & Herzegovina',\n",
       " 'si': 'Slovenia',\n",
       " 'pl': 'Poland',\n",
       " 'hu': 'Hungary',\n",
       " 'ru': 'Russia',\n",
       " 'sk': 'Slovakia',\n",
       " 'ro': 'Romania',\n",
       " 'ee': 'Estonia',\n",
       " 'lt': 'Lithuania',\n",
       " 'mk': 'North Macedonia',\n",
       " 'lv': 'Latvia',\n",
       " 'ua': 'Ukraine',\n",
       " 'cs': 'Serbia & Montenegro',\n",
       " 'al': 'Albania',\n",
       " 'Andorra': 'Andorra',\n",
       " 'by': 'Belarus',\n",
       " 'md': 'Moldova',\n",
       " 'bg': 'Bulgaria',\n",
       " 'am': 'Armenia',\n",
       " 'rs': 'Serbia',\n",
       " 'ge': 'Georgia',\n",
       " 'me': 'Montenegro',\n",
       " 'cz': 'Czech Republic',\n",
       " 'az': 'Azerbaijan',\n",
       " 'sm': 'San Marino',\n",
       " 'au': 'Australia'}"
      ]
     },
     "execution_count": 14,
     "metadata": {},
     "output_type": "execute_result"
    }
   ],
   "source": [
    "country_dict"
   ]
  },
  {
   "cell_type": "code",
   "execution_count": 15,
   "metadata": {},
   "outputs": [],
   "source": [
    "# get only the countries that participated in the contest in the cultural similarity dataframe\n",
    "cultural_1 = cultural[cultural[\"country1\"].isin(countries)]\n",
    "cultural_2 = cultural[cultural[\"country2\"].isin(countries)]\n",
    "\n",
    "cultural = pd.concat([cultural_1, cultural_2])\n",
    "\n",
    "# drop duplicates\n",
    "cultural = cultural.drop_duplicates()"
   ]
  },
  {
   "cell_type": "code",
   "execution_count": 16,
   "metadata": {},
   "outputs": [],
   "source": [
    "def get_key(val, my_dict): \n",
    "    for key, value in my_dict.items(): \n",
    "        if val == value: \n",
    "            return key \n",
    "    \n",
    "\n",
    "    return \"key doesn't exist\"\n",
    "\n",
    "def points_neighbours(input_country, list_of_neighbours, data):   \n",
    "    \"\"\"\n",
    "    \"\"\"\n",
    "    # get the points given to the input country\n",
    "    points_received = data[data[\"to_country_id\"] == input_country]\n",
    "\n",
    "    # get the points given by the neighbours\n",
    "    points = points_received[points_received[\"from_country_id\"].isin(list_of_neighbours)]\n",
    "\n",
    "    # get sum \n",
    "    points_sum = points[\"total_points\"].sum()\n",
    "\n",
    "    return points_sum"
   ]
  },
  {
   "attachments": {},
   "cell_type": "markdown",
   "metadata": {},
   "source": [
    "# Create cultural data"
   ]
  },
  {
   "cell_type": "code",
   "execution_count": 17,
   "metadata": {},
   "outputs": [],
   "source": [
    "# empty pandas dataframe\n",
    "\n",
    "df = pd.DataFrame()\n",
    "\n",
    "# loop over dictionary\n",
    "for shortname, longname in country_dict.items():\n",
    "    # find the 5 most similar countries\n",
    "    dat = cultural[cultural[\"country2\"] == longname].sort_values(by=\"index\", ascending=False)\n",
    "\n",
    "    dat1 = cultural[cultural[\"country1\"] == longname].sort_values(by=\"index\", ascending=False)\n",
    "\n",
    "    # concatenate\n",
    "    dat = pd.concat([dat, dat1]).sort_values(by=\"index\", ascending=False).head(5)\n",
    "\n",
    "    \n",
    "    # get the names of the countries\n",
    "    list_of_neighbours = dat[\"country1\"].unique()\n",
    "    list_of_neighbours_2 = dat[\"country2\"].unique()\n",
    "    list_of_neighbours = np.concatenate([list_of_neighbours, list_of_neighbours_2])\n",
    "\n",
    "    # only not long names\n",
    "    list_of_neighbours_ln = [country for country in list_of_neighbours if country != longname]\n",
    "\n",
    "\n",
    "    # get short names for the countries in the list (not the input country)\n",
    "    list_of_neighbours = [get_key(country, country_dict) for country in list_of_neighbours_ln]\n",
    "\n",
    "    # get the points given to the input country by the neighbours\n",
    "    points = points_neighbours(shortname, list_of_neighbours, votes)\n",
    "\n",
    "    # add to dataframe\n",
    "    tmp_dat = pd.DataFrame({\"country\": [longname], \"country_sn\": [shortname], \"countries_similar\": [list_of_neighbours], \"countries_similar_ln\": [list_of_neighbours_ln], \"points_culturally_similar\": [points]})\n",
    "\n",
    "    df = pd.concat([df, tmp_dat])"
   ]
  },
  {
   "cell_type": "code",
   "execution_count": 18,
   "metadata": {},
   "outputs": [],
   "source": [
    "# save pandas dataframe as csv\n",
    "# only those that do not have an empty list\n",
    "df[df[\"countries_similar\"] != \"[]\"].to_csv(os.path.join( \"data\", \"votes_cultural_similarity.csv\"), index=False)"
   ]
  }
 ],
 "metadata": {
  "kernelspec": {
   "display_name": "esc-env",
   "language": "python",
   "name": "python3"
  },
  "language_info": {
   "codemirror_mode": {
    "name": "ipython",
    "version": 3
   },
   "file_extension": ".py",
   "mimetype": "text/x-python",
   "name": "python",
   "nbconvert_exporter": "python",
   "pygments_lexer": "ipython3",
   "version": "3.9.6"
  },
  "orig_nbformat": 4,
  "vscode": {
   "interpreter": {
    "hash": "25bbf2765ba7b9f7accf01d9edf275a3a13f366de9a0b1e3a53698e9e99ae988"
   }
  }
 },
 "nbformat": 4,
 "nbformat_minor": 2
}
